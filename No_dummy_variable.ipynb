{
 "cells": [
  {
   "cell_type": "markdown",
   "id": "a26842fa",
   "metadata": {},
   "source": [
    "### MODELS WITHOUT DUMMY VARIABLES\n",
    "ALl the models here are performed without dummy variables"
   ]
  },
  {
   "cell_type": "markdown",
   "id": "515e2c3f",
   "metadata": {},
   "source": [
    "### 1. Linear Regression"
   ]
  },
  {
   "cell_type": "code",
   "execution_count": null,
   "id": "63d01cc7",
   "metadata": {},
   "outputs": [],
   "source": [
    "#import pandas and assign it as pd\n",
    "import pandas as pd\n",
    "#'train_test_split' imported from 'sklearn.model_selection'\n",
    "#'train_test_split' used to split a dataset into training and testing subsets for model evalution\n",
    "from sklearn.model_selection import train_test_split\n",
    "#Used to perform read or write files,here used to set directory where csv file is present.\n",
    "import os\n",
    "#Import 'Ridge' and 'Lasso' from linear model for regularized linear regression \n",
    "from sklearn.linear_model import Ridge, Lasso\n",
    "#Import accuracy_score from metrics for calculating accuracy score for classification models\n",
    "from sklearn.metrics import accuracy_score"
   ]
  },
  {
   "cell_type": "code",
   "execution_count": 97,
   "id": "671ea4cb",
   "metadata": {},
   "outputs": [],
   "source": [
    "#chdir() stands for change directory\n",
    "os.chdir('F:/SUB3 - Big data for computational finance/Project')"
   ]
  },
  {
   "cell_type": "code",
   "execution_count": 98,
   "id": "19f035ed",
   "metadata": {},
   "outputs": [],
   "source": [
    "#Using 'read_csv' function from 'pandas' to read csv file and store as Dataframe\n",
    "Credit_data = pd.read_csv('MLF_GP1_CreditScore.csv')"
   ]
  },
  {
   "cell_type": "code",
   "execution_count": 99,
   "id": "9cbd0a02",
   "metadata": {},
   "outputs": [
    {
     "name": "stdout",
     "output_type": "stream",
     "text": [
      "No Missing Values present\n"
     ]
    }
   ],
   "source": [
    "if Credit_data.isnull().sum().sum()==0:\n",
    "    print(\"No Missing Values present\")"
   ]
  },
  {
   "cell_type": "code",
   "execution_count": 100,
   "id": "c97dc0c3",
   "metadata": {},
   "outputs": [],
   "source": [
    "#train_test_split() splits data into 80% training and 20% for testing as test_size=0.2. \n",
    "#random seed is used to split in similar random way everytime it is run\n",
    "train_credit, test_credit = train_test_split(Credit_data, test_size=0.2, random_state=50)"
   ]
  },
  {
   "cell_type": "code",
   "execution_count": 102,
   "id": "f4bd4736",
   "metadata": {},
   "outputs": [],
   "source": [
    "#Computing training data\n",
    "#iloc selects all rows ':' , and all columns except last two columns(InvGrd,Rating)\n",
    "#X_train holds training data for input variables(features)\n",
    "A_train = train_credit.iloc[:, :-2]\n",
    "#iloc selects all rows ':' , and only second-to-last column(InvGrd)\n",
    "#y_train holds training data for output variables(Target variable)\n",
    "B_train = train_credit.iloc[:, -2]"
   ]
  },
  {
   "cell_type": "code",
   "execution_count": 103,
   "id": "9f29ecdc",
   "metadata": {},
   "outputs": [],
   "source": [
    "#Computing testing data\n",
    "#iloc selects all rows ':' , and all columns except last two columns(InvGrd,Rating)\n",
    "#X_test holds testing data for input variables(features)\n",
    "A_test = test_credit.iloc[:, :-2]\n",
    "#iloc selects all rows ':' , and only second-to-last column(InvGrd)\n",
    "#y_test holds testing data for output variables(Target variable)\n",
    "B_test = test_credit.iloc[:, -2]\n"
   ]
  },
  {
   "cell_type": "code",
   "execution_count": 104,
   "id": "cb34bc5a",
   "metadata": {},
   "outputs": [
    {
     "data": {
      "text/plain": [
       "Ridge(alpha=0.1)"
      ]
     },
     "execution_count": 104,
     "metadata": {},
     "output_type": "execute_result"
    }
   ],
   "source": [
    "#Ridge() functions used to set regularization equal to 0.1\n",
    "#Helps to reduce overfitting\n",
    "ridge = Ridge(alpha=0.1)\n",
    "#ridge.fit() is a model to train data using ridge regression\n",
    "#X_train is input variables and y_train is target variable(InvGrd)\n",
    "ridge.fit(A_train, B_train)\n"
   ]
  },
  {
   "cell_type": "code",
   "execution_count": 105,
   "id": "6ac2572f",
   "metadata": {},
   "outputs": [
    {
     "data": {
      "text/plain": [
       "Lasso(alpha=0.01)"
      ]
     },
     "execution_count": 105,
     "metadata": {},
     "output_type": "execute_result"
    }
   ],
   "source": [
    "#Lasso() functions used to set regularization equal to 0.1\n",
    "#Helps to reduce overfitting\n",
    "lasso = Lasso(alpha=0.01)\n",
    "#lasso.fit() is a model to train data using lasso regression\n",
    "#X_train is input variables and y_train is target variable(InvGrd)\n",
    "lasso.fit(A_train, B_train)"
   ]
  },
  {
   "cell_type": "code",
   "execution_count": 106,
   "id": "a9b4e17c",
   "metadata": {},
   "outputs": [],
   "source": [
    "#ridge.predict() takes X_test(input variables) as input \n",
    "#And predicts target variable(InvGrd)\n",
    "B_pred_ridge = ridge.predict(A_test)\n",
    "#lasso.predict() takes X_test(input variables) as input \n",
    "#And predicts target variable(InvGrd)\n",
    "B_pred_lasso = lasso.predict(A_test)"
   ]
  },
  {
   "cell_type": "code",
   "execution_count": 107,
   "id": "926448a2",
   "metadata": {},
   "outputs": [],
   "source": [
    "#for each value x in predicted target variable, it compares x with threshold 0.5\n",
    "#If x is greater than or equal to 0.5 ,it assigns 1 else value is 0.\n",
    "B_pred_ridge_bin = [1 if a >= 0.5 else 0 for a in B_pred_ridge]\n",
    "B_pred_lasso_bin = [1 if a >= 0.5 else 0 for a in B_pred_lasso]"
   ]
  },
  {
   "cell_type": "code",
   "execution_count": 108,
   "id": "e7260ac3",
   "metadata": {},
   "outputs": [],
   "source": [
    "#Calculates the accuracy of binay predictions made by respective regression model.\n",
    "accuracy_ridge = accuracy_score(B_test, B_pred_ridge_bin)\n",
    "accuracy_lasso = accuracy_score(B_test, B_pred_lasso_bin)"
   ]
  },
  {
   "cell_type": "code",
   "execution_count": 109,
   "id": "d1a3058a",
   "metadata": {},
   "outputs": [
    {
     "name": "stdout",
     "output_type": "stream",
     "text": [
      "Accuracy of Ridge Regression Model: 0.81\n",
      "Accuracy of Lasso Regression Model: 0.81\n"
     ]
    }
   ],
   "source": [
    "#Accuracy value is the printed by rounding of two decimals(.2f)\n",
    "print(f\"Accuracy of Ridge Regression Model: {accuracy_ridge:.2f}\")\n",
    "print(f\"Accuracy of Lasso Regression Model: {accuracy_lasso:.2f}\")\n"
   ]
  },
  {
   "cell_type": "markdown",
   "id": "ce5cf787",
   "metadata": {},
   "source": [
    "### 2. Logistic Regression"
   ]
  },
  {
   "cell_type": "code",
   "execution_count": 110,
   "id": "365cb454",
   "metadata": {},
   "outputs": [],
   "source": [
    "#Import 'LogisticRegression' from linear model present in 'scikit-learn(library)'\n",
    "from sklearn.linear_model import LogisticRegression"
   ]
  },
  {
   "cell_type": "code",
   "execution_count": 111,
   "id": "204c7750",
   "metadata": {},
   "outputs": [
    {
     "name": "stdout",
     "output_type": "stream",
     "text": [
      "Accuracy of Ridge Logistic Regression Model: 0.81\n",
      "Accuracy of Lasso Logistic Regression Model: 0.81\n"
     ]
    }
   ],
   "source": [
    "#LogisticRegression() is used to add penalty of l2 regularisation with 'liblinear' solver\n",
    "#liblinear is well suited for l2\n",
    "ridge = LogisticRegression(penalty='l2', solver='liblinear')\n",
    "ridge.fit(A_train, B_train)\n",
    "\n",
    "#LogisticRegression() is used to add penalty of l2 regularisation with 'liblinear' solver\n",
    "#liblinear is well suited for l2\n",
    "lasso = LogisticRegression(penalty='l2', solver='liblinear')\n",
    "lasso.fit(A_train, B_train)\n",
    "\n",
    "#ridge.predict() takes X_test(input variables) as input \n",
    "#And predicts target variable(InvGrd)\n",
    "B_pred_ridge = ridge.predict(A_test)\n",
    "#lasso.predict() takes X_test(input variables) as input \n",
    "#And predicts target variable(InvGrd)\n",
    "B_pred_lasso = lasso.predict(A_test)\n",
    "\n",
    "#Calculates the accuracy of binay predictions made by respective regression model.\n",
    "accuracy_ridge = accuracy_score(B_test, B_pred_ridge)\n",
    "accuracy_lasso = accuracy_score(B_test, B_pred_lasso)\n",
    "\n",
    "#Accuracy value is the printed by rounding of two decimals(.2f)\n",
    "print(f\"Accuracy of Ridge Logistic Regression Model: {accuracy_ridge:.2f}\")\n",
    "print(f\"Accuracy of Lasso Logistic Regression Model: {accuracy_lasso:.2f}\")"
   ]
  },
  {
   "cell_type": "markdown",
   "id": "f4d06d4a",
   "metadata": {},
   "source": [
    "### 3. Neural Network"
   ]
  },
  {
   "cell_type": "code",
   "execution_count": 112,
   "id": "04ae23a6",
   "metadata": {},
   "outputs": [],
   "source": [
    "#StandardScaler used to normalize the feature of dataset\n",
    "#Scaling to have zero mean and unit variance\n",
    "from sklearn.preprocessing import StandardScaler\n",
    "#Sequential is used to add one layer at a time in sequence and\n",
    "#Specify the input and output dimensions\n",
    "from keras.models import Sequential\n",
    "#Dense is used for classification\n",
    "#It consists of interconnected nodes\n",
    "from keras.layers import Dense"
   ]
  },
  {
   "cell_type": "code",
   "execution_count": 113,
   "id": "d73421e8",
   "metadata": {},
   "outputs": [
    {
     "name": "stdout",
     "output_type": "stream",
     "text": [
      "Epoch 1/50\n",
      "43/43 [==============================] - 2s 3ms/step - loss: 0.6493 - accuracy: 0.7360\n",
      "Epoch 2/50\n",
      "43/43 [==============================] - 0s 3ms/step - loss: 0.5751 - accuracy: 0.7449\n",
      "Epoch 3/50\n",
      "43/43 [==============================] - 0s 3ms/step - loss: 0.5273 - accuracy: 0.7551\n",
      "Epoch 4/50\n",
      "43/43 [==============================] - 0s 3ms/step - loss: 0.5029 - accuracy: 0.7618\n",
      "Epoch 5/50\n",
      "43/43 [==============================] - 0s 3ms/step - loss: 0.4846 - accuracy: 0.7779\n",
      "Epoch 6/50\n",
      "43/43 [==============================] - 0s 3ms/step - loss: 0.4725 - accuracy: 0.7824\n",
      "Epoch 7/50\n",
      "43/43 [==============================] - 0s 3ms/step - loss: 0.4663 - accuracy: 0.7846\n",
      "Epoch 8/50\n",
      "43/43 [==============================] - 0s 3ms/step - loss: 0.4539 - accuracy: 0.7985\n",
      "Epoch 9/50\n",
      "43/43 [==============================] - 0s 3ms/step - loss: 0.4495 - accuracy: 0.8022\n",
      "Epoch 10/50\n",
      "43/43 [==============================] - 0s 3ms/step - loss: 0.4412 - accuracy: 0.8051\n",
      "Epoch 11/50\n",
      "43/43 [==============================] - 0s 3ms/step - loss: 0.4334 - accuracy: 0.8162\n",
      "Epoch 12/50\n",
      "43/43 [==============================] - 0s 3ms/step - loss: 0.4277 - accuracy: 0.8199\n",
      "Epoch 13/50\n",
      "43/43 [==============================] - 0s 3ms/step - loss: 0.4202 - accuracy: 0.8309\n",
      "Epoch 14/50\n",
      "43/43 [==============================] - 0s 3ms/step - loss: 0.4161 - accuracy: 0.8338\n",
      "Epoch 15/50\n",
      "43/43 [==============================] - 0s 3ms/step - loss: 0.4067 - accuracy: 0.8279\n",
      "Epoch 16/50\n",
      "43/43 [==============================] - 0s 3ms/step - loss: 0.4001 - accuracy: 0.8397\n",
      "Epoch 17/50\n",
      "43/43 [==============================] - 0s 3ms/step - loss: 0.3934 - accuracy: 0.8397\n",
      "Epoch 18/50\n",
      "43/43 [==============================] - 0s 3ms/step - loss: 0.3875 - accuracy: 0.8434\n",
      "Epoch 19/50\n",
      "43/43 [==============================] - 0s 3ms/step - loss: 0.3804 - accuracy: 0.8441\n",
      "Epoch 20/50\n",
      "43/43 [==============================] - 0s 3ms/step - loss: 0.3760 - accuracy: 0.8441\n",
      "Epoch 21/50\n",
      "43/43 [==============================] - 0s 3ms/step - loss: 0.3699 - accuracy: 0.8434\n",
      "Epoch 22/50\n",
      "43/43 [==============================] - 0s 3ms/step - loss: 0.3667 - accuracy: 0.8500\n",
      "Epoch 23/50\n",
      "43/43 [==============================] - 0s 3ms/step - loss: 0.3603 - accuracy: 0.8485\n",
      "Epoch 24/50\n",
      "43/43 [==============================] - 0s 3ms/step - loss: 0.3478 - accuracy: 0.8596\n",
      "Epoch 25/50\n",
      "43/43 [==============================] - 0s 3ms/step - loss: 0.3462 - accuracy: 0.8588\n",
      "Epoch 26/50\n",
      "43/43 [==============================] - 0s 3ms/step - loss: 0.3457 - accuracy: 0.8640\n",
      "Epoch 27/50\n",
      "43/43 [==============================] - 0s 3ms/step - loss: 0.3480 - accuracy: 0.8654\n",
      "Epoch 28/50\n",
      "43/43 [==============================] - 0s 3ms/step - loss: 0.3375 - accuracy: 0.8610\n",
      "Epoch 29/50\n",
      "43/43 [==============================] - 0s 3ms/step - loss: 0.3210 - accuracy: 0.8765\n",
      "Epoch 30/50\n",
      "43/43 [==============================] - 0s 3ms/step - loss: 0.3200 - accuracy: 0.8647\n",
      "Epoch 31/50\n",
      "43/43 [==============================] - 0s 3ms/step - loss: 0.3164 - accuracy: 0.8743\n",
      "Epoch 32/50\n",
      "43/43 [==============================] - 0s 3ms/step - loss: 0.3123 - accuracy: 0.8721\n",
      "Epoch 33/50\n",
      "43/43 [==============================] - 0s 3ms/step - loss: 0.3055 - accuracy: 0.8735\n",
      "Epoch 34/50\n",
      "43/43 [==============================] - 0s 3ms/step - loss: 0.3015 - accuracy: 0.8816\n",
      "Epoch 35/50\n",
      "43/43 [==============================] - 0s 3ms/step - loss: 0.2969 - accuracy: 0.8824\n",
      "Epoch 36/50\n",
      "43/43 [==============================] - 0s 3ms/step - loss: 0.2934 - accuracy: 0.8838\n",
      "Epoch 37/50\n",
      "43/43 [==============================] - 0s 3ms/step - loss: 0.2850 - accuracy: 0.8890\n",
      "Epoch 38/50\n",
      "43/43 [==============================] - 0s 3ms/step - loss: 0.2762 - accuracy: 0.8926\n",
      "Epoch 39/50\n",
      "43/43 [==============================] - 0s 3ms/step - loss: 0.2696 - accuracy: 0.8963\n",
      "Epoch 40/50\n",
      "43/43 [==============================] - 0s 3ms/step - loss: 0.2634 - accuracy: 0.8949\n",
      "Epoch 41/50\n",
      "43/43 [==============================] - 0s 3ms/step - loss: 0.2776 - accuracy: 0.8846\n",
      "Epoch 42/50\n",
      "43/43 [==============================] - 0s 3ms/step - loss: 0.2612 - accuracy: 0.9000\n",
      "Epoch 43/50\n",
      "43/43 [==============================] - 0s 3ms/step - loss: 0.2684 - accuracy: 0.8971\n",
      "Epoch 44/50\n",
      "43/43 [==============================] - 0s 3ms/step - loss: 0.2559 - accuracy: 0.9007\n",
      "Epoch 45/50\n",
      "43/43 [==============================] - 0s 3ms/step - loss: 0.2455 - accuracy: 0.9081\n",
      "Epoch 46/50\n",
      "43/43 [==============================] - 0s 3ms/step - loss: 0.2383 - accuracy: 0.9118\n",
      "Epoch 47/50\n",
      "43/43 [==============================] - 0s 3ms/step - loss: 0.2392 - accuracy: 0.9051\n",
      "Epoch 48/50\n",
      "43/43 [==============================] - 0s 3ms/step - loss: 0.2451 - accuracy: 0.9096\n",
      "Epoch 49/50\n",
      "43/43 [==============================] - 0s 3ms/step - loss: 0.2216 - accuracy: 0.9184\n",
      "Epoch 50/50\n",
      "43/43 [==============================] - 0s 3ms/step - loss: 0.2218 - accuracy: 0.9176\n",
      "11/11 [==============================] - 0s 2ms/step\n",
      "Accuracy of Neural Networks Model: 0.81\n"
     ]
    }
   ],
   "source": [
    "#Standardizes the range of input features\n",
    "scaler = StandardScaler()\n",
    "#Computes mean and standard deviation of the training data and scales based on this statistics\n",
    "A_train = scaler.fit_transform(A_train)\n",
    "#Similarly as above test data is scaled.\n",
    "A_test = scaler.transform(A_test)\n",
    "\n",
    "# Creates a Sequential neural network model\n",
    "#Here layers can be addded sequentially\n",
    "model = Sequential()\n",
    "#Adding dense layer with 64 neurons to the model,\n",
    "#with rectified linear unit(ReLU) activation function\n",
    "#input_dim specifies dimension of input features\n",
    "model.add(Dense(64, activation='relu', input_dim=X_train.shape[1]))\n",
    "#Adding dense layer with 32 neurons to the model,\n",
    "#with rectified linear unit(ReLU) activation function\n",
    "model.add(Dense(32, activation='relu'))\n",
    "#Adding dense layer with 16 neurons to the model,\n",
    "#with rectified linear unit(ReLU) activation function\n",
    "model.add(Dense(16, activation='relu'))\n",
    "#Adds output layer with 1 neuron and sigmoid function,used for binary classification\n",
    "model.add(Dense(1, activation='sigmoid'))\n",
    "\n",
    "#Configure training process\n",
    "#optimizer specifies algorithm, adam is alogrithm used\n",
    "#loss specifies loss function, binary_crossentropy is commonly used for binary classification\n",
    "#metrics is evaluation metrics\n",
    "model.compile(optimizer='adam', loss='binary_crossentropy', metrics=['accuracy'])\n",
    "\n",
    "#model.fit is used to train model with providing training data\n",
    "#epochs is specifies number of times training data must be passed through neural network\n",
    "#batch_size specifies number of samples to be used in each iteration\n",
    "#verbose specifies , whether progress information should be displayed(1) or not(0,2)\n",
    "model.fit(A_train, B_train, epochs=50, batch_size=32, verbose=1)\n",
    "\n",
    "#model.predict() does binary classification for test data\n",
    "B_pred = model.predict(A_test)\n",
    "#later based on threshold(0.5), they are labeled as 0 or 1\n",
    "B_pred_bin = [1 if a >= 0.5 else 0 for a in B_pred]\n",
    "\n",
    "##Calculates the accuracy of binay predictions made by respective neural network model.\n",
    "accuracy = accuracy_score(B_test, B_pred_bin)\n",
    "\n",
    "#Accuracy value is the printed by rounding of two decimals(.2f)\n",
    "print(f\"Accuracy of Neural Networks Model: {accuracy:.2f}\")"
   ]
  }
 ],
 "metadata": {
  "kernelspec": {
   "display_name": "Python 3 (ipykernel)",
   "language": "python",
   "name": "python3"
  },
  "language_info": {
   "codemirror_mode": {
    "name": "ipython",
    "version": 3
   },
   "file_extension": ".py",
   "mimetype": "text/x-python",
   "name": "python",
   "nbconvert_exporter": "python",
   "pygments_lexer": "ipython3",
   "version": "3.9.13"
  }
 },
 "nbformat": 4,
 "nbformat_minor": 5
}
